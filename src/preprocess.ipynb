{
 "cells": [
  {
   "cell_type": "markdown",
   "metadata": {},
   "source": [
    "# Скрипт для предобработки\n",
    "\n",
    "### __[Ссылка на POA](https://docs.google.com/document/d/1roYsQNsmZ2y2lLftn3QCgG293wpQBBlIH48KzK03GBk/edit?usp=sharing)__\n",
    "\n",
    "### __[Исходный код на GitHub](https://github.com/iyves/ru_col_suggest/tree/master/ru_col_suggest/)__"
   ]
  },
  {
   "cell_type": "code",
   "execution_count": 3,
   "metadata": {},
   "outputs": [
    {
     "ename": "ModuleNotFoundError",
     "evalue": "No module named 'src'",
     "output_type": "error",
     "traceback": [
      "\u001b[1;31m---------------------------------------------------------------------------\u001b[0m",
      "\u001b[1;31mModuleNotFoundError\u001b[0m                       Traceback (most recent call last)",
      "\u001b[1;32m<ipython-input-3-353cfe0f5525>\u001b[0m in \u001b[0;36m<module>\u001b[1;34m\u001b[0m\n\u001b[1;32m----> 1\u001b[1;33m \u001b[1;32mimport\u001b[0m \u001b[0mpreprocessor\u001b[0m\u001b[1;33m\u001b[0m\u001b[1;33m\u001b[0m\u001b[0m\n\u001b[0m\u001b[0;32m      2\u001b[0m \u001b[1;33m\u001b[0m\u001b[0m\n\u001b[0;32m      3\u001b[0m \u001b[1;32mfrom\u001b[0m \u001b[0mjoblib\u001b[0m \u001b[1;32mimport\u001b[0m \u001b[0mParallel\u001b[0m\u001b[1;33m,\u001b[0m \u001b[0mdelayed\u001b[0m\u001b[1;33m\u001b[0m\u001b[1;33m\u001b[0m\u001b[0m\n\u001b[0;32m      4\u001b[0m \u001b[1;33m\u001b[0m\u001b[0m\n\u001b[0;32m      5\u001b[0m \u001b[1;33m\u001b[0m\u001b[0m\n",
      "\u001b[1;32m~\\Projects\\ru_col_suggest\\src\\preprocessor.py\u001b[0m in \u001b[0;36m<module>\u001b[1;34m\u001b[0m\n\u001b[0;32m      7\u001b[0m \u001b[1;32mfrom\u001b[0m \u001b[0mbs4\u001b[0m \u001b[1;32mimport\u001b[0m \u001b[0mBeautifulSoup\u001b[0m\u001b[1;33m,\u001b[0m \u001b[0mSoupStrainer\u001b[0m\u001b[1;33m\u001b[0m\u001b[1;33m\u001b[0m\u001b[0m\n\u001b[0;32m      8\u001b[0m \u001b[1;33m\u001b[0m\u001b[0m\n\u001b[1;32m----> 9\u001b[1;33m \u001b[1;32mimport\u001b[0m \u001b[0msrc\u001b[0m\u001b[1;33m.\u001b[0m\u001b[0mscripts\u001b[0m\u001b[1;33m.\u001b[0m\u001b[0mpreprocessing\u001b[0m\u001b[1;33m.\u001b[0m\u001b[0mkutuzov\u001b[0m\u001b[1;33m.\u001b[0m\u001b[0mrus_preprocessing_udpipe\u001b[0m \u001b[1;32mas\u001b[0m \u001b[0mkutuzov\u001b[0m\u001b[1;33m\u001b[0m\u001b[1;33m\u001b[0m\u001b[0m\n\u001b[0m\u001b[0;32m     10\u001b[0m \u001b[1;33m\u001b[0m\u001b[0m\n\u001b[0;32m     11\u001b[0m \u001b[0mpunctuation\u001b[0m \u001b[1;33m+=\u001b[0m \u001b[1;34m'ʹ…〈〉«»—„“'\u001b[0m\u001b[1;33m\u001b[0m\u001b[1;33m\u001b[0m\u001b[0m\n",
      "\u001b[1;31mModuleNotFoundError\u001b[0m: No module named 'src'"
     ]
    }
   ],
   "source": [
    "import preprocessor\n",
    "\n",
    "from joblib import Parallel, delayed\n",
    "\n",
    "\n",
    "def preprocess_one(filename, file, target_txt, target_pickle):\n",
    "    text = get_text(file)\n",
    "    preprocessor = HtmlPreprocessor(text, filename)\n",
    "    if not preprocessor.preprocess():\n",
    "        logging.error(\"Error: Failed to preprocesses file: {}\".format(filename))\n",
    "\n",
    "    # Save preprocessed text as txt file\n",
    "    output_file = Path(target_txt, filename + \".txt\")\n",
    "    if not os.path.isfile(output_file):\n",
    "        with open(output_file, \"w\", encoding='utf8') as file:\n",
    "            for page in preprocessor.text:\n",
    "                for paragraph in page:\n",
    "                    file.write(\" \".join(paragraph) + \"\\n\")\n",
    "    \n",
    "    # Save tokens as pickle file\n",
    "    output_file = Path(target_pickle, filename + \".pickle\")\n",
    "    if not os.path.isfile(output_file):\n",
    "        with open(output_file, \"wb\") as file:\n",
    "            tokens = preprocessor.tokenize(keep_pos = True, keep_punct = True)\n",
    "            pickle.dump(list(tokens), file, pickle.HIGHEST_PROTOCOL)\n",
    "        \n",
    "    print(output_file, end=\", \")\n",
    "\n",
    "\n",
    "# Preprocess all articles\n",
    "for folder in 'Economics Education_and_psychology History Law Linguistics Sociology'.split():\n",
    "    logging.info(\"Preprocessing papers from folder: {}\".format(folder))\n",
    "    \n",
    "    # Set up the target directories, to where the preprocessed text will be saved\n",
    "    source = str(Path(\"../data/extracted/html/{}\".format(folder)).resolve())\n",
    "    target_txt = str(Path(\"../data/preprocessed/text/{}\".format(folder)).resolve())\n",
    "    target_pickle = str(Path(\"../data/preprocessed/pickle/{}\".format(folder)).resolve())\n",
    "    for target in [target_txt, target_pickle]:\n",
    "        if not os.path.exists(target):\n",
    "            os.makedirs(target)\n",
    "\n",
    "    # Set up the files to preprocess\n",
    "    files = [(os.path.splitext(os.path.basename(file))[0], file) for file in get_file_names(source, \".html\")]\n",
    "\n",
    "    # Preprocess each file in parallel\n",
    "    element_information = Parallel(n_jobs=-1)(delayed(preprocess_one)(filename, file, target_txt, target_pickle) for filename, file in files)"
   ]
  },
  {
   "cell_type": "markdown",
   "metadata": {},
   "source": [
    "# Liza's preprocessing script\n",
    "NOTE: My scrpt is adapted to a small amount papers written in Linguistics, further testing is required to determine the quality of my scrips on papers from other fields."
   ]
  },
  {
   "cell_type": "code",
   "execution_count": null,
   "metadata": {
    "scrolled": false
   },
   "outputs": [],
   "source": [
    "from scripts.preprocessing.liza import CAT_preprocessing\n",
    "\n",
    "# Set up the article to preprocess\n",
    "filename = \"420.txt\"\n",
    "text = get_text(\"../data/extracted/txt/linguistics/\" + filename)\n",
    "\n",
    "print(CAT_preprocessing.clean_text(text))"
   ]
  },
  {
   "cell_type": "code",
   "execution_count": null,
   "metadata": {},
   "outputs": [],
   "source": []
  }
 ],
 "metadata": {
  "kernelspec": {
   "display_name": "Python 3",
   "language": "python",
   "name": "python3"
  },
  "language_info": {
   "codemirror_mode": {
    "name": "ipython",
    "version": 3
   },
   "file_extension": ".py",
   "mimetype": "text/x-python",
   "name": "python",
   "nbconvert_exporter": "python",
   "pygments_lexer": "ipython3",
   "version": "3.7.4"
  }
 },
 "nbformat": 4,
 "nbformat_minor": 4
}
