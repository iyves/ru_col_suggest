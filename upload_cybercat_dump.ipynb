{
  "nbformat": 4,
  "nbformat_minor": 0,
  "metadata": {
    "colab": {
      "name": "upload_cybercat_dump.ipynb",
      "provenance": [],
      "authorship_tag": "ABX9TyNwZZaWi5DAKbIxOhSCXmDS",
      "include_colab_link": true
    },
    "kernelspec": {
      "name": "python3",
      "display_name": "Python 3"
    },
    "language_info": {
      "name": "python"
    }
  },
  "cells": [
    {
      "cell_type": "markdown",
      "metadata": {
        "id": "view-in-github",
        "colab_type": "text"
      },
      "source": [
        "<a href=\"https://colab.research.google.com/github/iyves/ru_col_suggest/blob/master/upload_cybercat_dump.ipynb\" target=\"_parent\"><img src=\"https://colab.research.google.com/assets/colab-badge.svg\" alt=\"Open In Colab\"/></a>"
      ]
    },
    {
      "cell_type": "markdown",
      "metadata": {
        "id": "ttBs5O47PXbk"
      },
      "source": [
        "### Uploading files to a Gcloud bucket\n",
        "This colab document shows how to connect to a gdrive account and a gcloud account, and then send a file from the gdrive account to an existing bucket in the gcloud account.\n",
        "\n",
        "[More info](https://stackoverflow.com/questions/48122091/copy-file-from-google-drive-to-google-cloud-storage-within-google)"
      ]
    },
    {
      "cell_type": "code",
      "metadata": {
        "id": "jYroAYDKhB5E"
      },
      "source": [
        "# location of file from gdrive to transfer: \"./drive/MyDrive/models/cybercat.sql\""
      ],
      "execution_count": null,
      "outputs": []
    },
    {
      "cell_type": "code",
      "metadata": {
        "colab": {
          "base_uri": "https://localhost:8080/"
        },
        "id": "FwBufcxrjotn",
        "outputId": "1bf0161d-2572-46f3-fd57-64df4310c5fc"
      },
      "source": [
        "# Connecting to the gdrive account\n",
        "from google.colab import drive\n",
        "drive.mount('/content/drive/')"
      ],
      "execution_count": null,
      "outputs": [
        {
          "output_type": "stream",
          "text": [
            "Mounted at /content/drive/\n"
          ],
          "name": "stdout"
        }
      ]
    },
    {
      "cell_type": "code",
      "metadata": {
        "colab": {
          "base_uri": "https://localhost:8080/"
        },
        "id": "SngVTObJkkin",
        "outputId": "91d250e7-ac64-4034-8a11-0bd8b2500ca7"
      },
      "source": [
        "# Connecting to the gcloud account\n",
        "# note: a project must already have been made in gcloud\n",
        "\n",
        "from google.colab import auth\n",
        "auth.authenticate_user()\n",
        "\n",
        "project_id = 'cat-and-kittens'\n",
        "!gcloud config set project {project_id}\n",
        "!gsutil ls"
      ],
      "execution_count": null,
      "outputs": [
        {
          "output_type": "stream",
          "text": [
            "Updated property [core/project].\n"
          ],
          "name": "stdout"
        }
      ]
    },
    {
      "cell_type": "code",
      "metadata": {
        "colab": {
          "base_uri": "https://localhost:8080/"
        },
        "id": "shmIeI8qlKz0",
        "outputId": "1a70aebc-3d18-4fec-cedf-485e51d125b7"
      },
      "source": [
        "# Transferring the file from gdrive to the bucket in gcloud\n",
        "# note: a storage bucket must have already been made in gcloud\n",
        "bucket_name = 'cybercat-dump'\n",
        "\n",
        "!gsutil -m cp -r /content/drive/MyDrive/models/cybercat_original.sql gs://{bucket_name}/"
      ],
      "execution_count": null,
      "outputs": [
        {
          "output_type": "stream",
          "text": [
            "Copying file:///content/drive/MyDrive/models/cybercat_original.sql [Content-Type=application/x-sql]...\n",
            "/ [0/1 files][    0.0 B/ 10.2 GiB]   0% Done                                    \r==> NOTE: You are uploading one or more large file(s), which would run\n",
            "significantly faster if you enable parallel composite uploads. This\n",
            "feature can be enabled by editing the\n",
            "\"parallel_composite_upload_threshold\" value in your .boto\n",
            "configuration file. However, note that if you do this large files will\n",
            "be uploaded as `composite objects\n",
            "<https://cloud.google.com/storage/docs/composite-objects>`_,which\n",
            "means that any user who downloads such objects will need to have a\n",
            "compiled crcmod installed (see \"gsutil help crcmod\"). This is because\n",
            "without a compiled crcmod, computing checksums on composite objects is\n",
            "so slow that gsutil disables downloads of composite objects.\n",
            "\n",
            "Resuming upload for file:///content/drive/MyDrive/models/cybercat_original.sql\n",
            "\\\n",
            "Operation completed over 1 objects/10.2 GiB.                                     \n"
          ],
          "name": "stdout"
        }
      ]
    }
  ]
}